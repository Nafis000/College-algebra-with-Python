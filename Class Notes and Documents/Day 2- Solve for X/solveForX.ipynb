{
 "cells": [
  {
   "cell_type": "markdown",
   "metadata": {},
   "source": [
    "# Solve for the X"
   ]
  },
  {
   "cell_type": "markdown",
   "metadata": {},
   "source": [
    "Solving for x. The variable `eq` is the equation set equal to zero. This will print and array of solution."
   ]
  },
  {
   "cell_type": "code",
   "execution_count": null,
   "metadata": {},
   "outputs": [
    {
     "name": "stdout",
     "output_type": "stream",
     "text": [
      "x =  [2]\n"
     ]
    }
   ],
   "source": [
    "import sympy\n",
    "from sympy import symbols\n",
    "from sympy.solvers import solve\n",
    "\n",
    "x = symbols('x')\n",
    "eq = x - 2\n",
    "\n",
    "print(\"x = \", solve(eq,x))"
   ]
  },
  {
   "cell_type": "markdown",
   "metadata": {},
   "source": [
    "Some One step and two step math equation problems"
   ]
  },
  {
   "cell_type": "code",
   "execution_count": null,
   "metadata": {},
   "outputs": [],
   "source": [
    "# converts string input (even fractions) to float\n",
    "def string_frac(in_string):\n",
    "    if \"/\" in in_string:\n",
    "        nd = in_string.split(\"/\")\n",
    "        n = float(nd[0])\n",
    "        d = float(nd[1])\n",
    "        ans = n/d\n",
    "        return ans\n",
    "    else:\n",
    "        ans = float(in_string)\n",
    "        return ans\n",
    "\n",
    "\n",
    "# Simplest one-step addition\n",
    "def one_step_add():\n",
    "    import random\n",
    "    # Display problem\n",
    "    a = random.randint(-4,10)\n",
    "    b = random.randint(2,24)\n",
    "    print(\"x + \", a, \" = \", b)\n",
    "    ans = float(input(\"x = \"))\n",
    "    answer = b-a\n",
    "    # Test input\n",
    "    if ans==answer:\n",
    "        print(\"Correct! \\n\")\n",
    "    else:\n",
    "        print(\"Try again\")\n",
    "        print(\"The correct answer is \", answer, \"\\n\")\n",
    "\n",
    "\n",
    "# One-step additon with negaive numbers\n",
    "def one_step_subtract():\n",
    "    import random\n",
    "    a = random.randint(-19,-1)\n",
    "    b = random.randint(2,24)\n",
    "    print(a, \" + x = \", b)\n",
    "    ans = float(input(\"x = \"))\n",
    "    # test\n",
    "    answer = b-a\n",
    "    if ans==answer:\n",
    "        print(\"Correct! \\n\")\n",
    "    else:\n",
    "        print(\"Try again\")\n",
    "        print(\"The correct answer is \", answer, \"\\n\")\n",
    "\n",
    "# One-step multiply\n",
    "def one_step_mult():\n",
    "    # Uses string_frac(<input string>)\n",
    "    import random\n",
    "    a = random.randint(1,11)\n",
    "    b = random.randint(2,24)\n",
    "    print(a, \"x = \", b)\n",
    "    print(\"Round your answer to two decimal places.\")\n",
    "    ans_in = (input(\"x = \"))\n",
    "    answer = round(b/a,2)\n",
    "    # test\n",
    "    if string_frac(ans_in)==answer:\n",
    "        print(\"Correct! \\n\")\n",
    "    else:\n",
    "        print(\"Try again\")\n",
    "        print(\"The correct answer is \", answer, \"\\n\")\n",
    "\n",
    "\n",
    "# One-step divide\n",
    "def one_step_div():\n",
    "    import random\n",
    "    a = random.randint(1,11)\n",
    "    b = random.randint(2,24)\n",
    "    print(\"x/\", a, \" = \", b)\n",
    "    ans = float(input(\"x = \"))\n",
    "    answer = b*a\n",
    "    # test\n",
    "    if ans==answer:\n",
    "        print(\"Correct! \\n\")\n",
    "    else:\n",
    "        print(\"Try again\")\n",
    "        print(\"The correct answer is \", answer, \"\\n\")\n",
    "\n",
    "\n",
    "# Two-step problems\n",
    "def two_step():\n",
    "    import random\n",
    "    # Uses string_frac()\n",
    "    a = random.randint(1,11)\n",
    "    b = random.randint(-7,12)\n",
    "    c = random.randint(2,36)\n",
    "    print(a, \"x + \", b, \" = \", c)\n",
    "    print(\"Round answer to two decimal places\")\n",
    "    ans_in = input(\"x = \")\n",
    "    answer = (c-b)/a\n",
    "    # test\n",
    "    if round(string_frac(ans_in),2)==round(answer,2):\n",
    "        print(\"Correct! \\n\")\n",
    "    else:\n",
    "        print(\"Try again\")\n",
    "        print(\"The correct answer is \", answer, \"\\n\")\n",
    "\n",
    "\n",
    "# test loop\n",
    "for a in range(2):\n",
    "    one_step_add()\n",
    "    one_step_subtract()\n",
    "    one_step_mult()\n",
    "    one_step_div()\n",
    "    two_step()\n",
    "    print(\" \")\n",
    "\n",
    "two_step()\n",
    "two_step()"
   ]
  },
  {
   "cell_type": "markdown",
   "metadata": {},
   "source": [
    "## Extra problems"
   ]
  },
  {
   "cell_type": "code",
   "execution_count": null,
   "metadata": {},
   "outputs": [
    {
     "name": "stdout",
     "output_type": "stream",
     "text": [
      "x =  [-sqrt(2)*I/2, sqrt(2)*I/2]\n"
     ]
    }
   ],
   "source": [
    "import sympy\n",
    "from sympy import symbols\n",
    "from sympy.solvers import solve\n",
    "\n",
    "x = symbols('x')\n",
    "\n",
    "#Put the equation here\n",
    "eq = 2*x**2 + 1\n",
    "\n",
    "solve = solve(eq, x)\n",
    "\n",
    "print(\"x = \", solve)"
   ]
  },
  {
   "cell_type": "markdown",
   "metadata": {},
   "source": [
    "Promt for someone to enter the equation"
   ]
  },
  {
   "cell_type": "code",
   "execution_count": null,
   "metadata": {},
   "outputs": [],
   "source": [
    "import sympy\n",
    "from sympy import symbols\n",
    "from sympy.solvers import solve\n",
    "\n",
    "x = symbols('x')\n",
    "eq = input('Enter equation: 0 = ')\n",
    "\n",
    "print(\"x =\", solve(eq,x))"
   ]
  },
  {
   "cell_type": "markdown",
   "metadata": {},
   "source": [
    "Solving in other ways"
   ]
  },
  {
   "cell_type": "code",
   "execution_count": null,
   "metadata": {},
   "outputs": [
    {
     "name": "stdout",
     "output_type": "stream",
     "text": [
      "x =  y/2\n"
     ]
    }
   ],
   "source": [
    "from sympy import *\n",
    "\n",
    "\n",
    "var('x y')\n",
    "\n",
    "# First equation set equal to zero, ready to solve\n",
    "first = 2*x - y\n",
    "\n",
    "# Sympy syntax for equation equal to zero, ready to factor\n",
    "eq1 = Eq(first,0)\n",
    "\n",
    "# Sympy solve for x\n",
    "sol = solve(eq1,x)\n",
    "\n",
    "# Show factored results\n",
    "print(\"x = \", sol[0])\n",
    "\n"
   ]
  },
  {
   "cell_type": "markdown",
   "metadata": {},
   "source": [
    "Factoring"
   ]
  },
  {
   "cell_type": "code",
   "execution_count": null,
   "metadata": {},
   "outputs": [
    {
     "data": {
      "text/latex": [
       "$\\displaystyle \\left(x - 3\\right) \\left(x - 1\\right) \\left(x + 2\\right)$"
      ],
      "text/plain": [
       "(x - 3)*(x - 1)*(x + 2)"
      ]
     },
     "metadata": {},
     "output_type": "display_data"
    }
   ],
   "source": [
    "import sympy\n",
    "from sympy import *\n",
    "\n",
    "var('x y')\n",
    "\n",
    "# Equation set equal to zero, ready to solve\n",
    "#eq = x**2-4\n",
    "eq = x**3 - 2*x**2 - 5*x + 6\n",
    "\n",
    "sympy.factor(eq)"
   ]
  },
  {
   "cell_type": "markdown",
   "metadata": {},
   "source": [
    "Solving for x. The variable `eq` is the equation set equal to zero. This will print and array of solution."
   ]
  },
  {
   "cell_type": "code",
   "execution_count": 2,
   "metadata": {},
   "outputs": [
    {
     "name": "stdout",
     "output_type": "stream",
     "text": [
      "x =  [2]\n"
     ]
    }
   ],
   "source": [
    "import sympy\n",
    "from sympy import symbols\n",
    "from sympy.solvers import solve\n",
    "\n",
    "x = symbols('x')\n",
    "eq = x - 2\n",
    "\n",
    "print(\"x = \", solve(eq,x))"
   ]
  }
 ],
 "metadata": {
  "kernelspec": {
   "display_name": "Python 3",
   "language": "python",
   "name": "python3"
  },
  "language_info": {
   "codemirror_mode": {
    "name": "ipython",
    "version": 3
   },
   "file_extension": ".py",
   "mimetype": "text/x-python",
   "name": "python",
   "nbconvert_exporter": "python",
   "pygments_lexer": "ipython3",
   "version": "3.12.1"
  }
 },
 "nbformat": 4,
 "nbformat_minor": 2
}
